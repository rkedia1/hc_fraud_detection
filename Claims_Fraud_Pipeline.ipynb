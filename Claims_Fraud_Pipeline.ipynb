{
 "cells": [
  {
   "cell_type": "code",
   "execution_count": 3843,
   "id": "0bdd458d",
   "metadata": {},
   "outputs": [],
   "source": [
    "import pandas as pd\n",
    "import numpy as np\n",
    "import seaborn as sns\n",
    "import matplotlib.pyplot as plt\n",
    "import datetime as datetime\n",
    "import xgboost as xgb\n",
    "from sklearn.metrics import f1_score\n",
    "from sklearn.linear_model import LogisticRegression\n",
    "from sklearn.ensemble import RandomForestClassifier\n",
    "from sklearn.preprocessing import OrdinalEncoder\n",
    "import lightgbm as lgb\n",
    "from sklearn.model_selection import GridSearchCV\n",
    "from sklearn.model_selection import RandomizedSearchCV\n",
    "import pickle\n",
    "from sklearn.metrics import confusion_matrix\n",
    "from sklearn.metrics import roc_curve, roc_auc_score\n",
    "import category_encoders as ce\n",
    "from sklearn.feature_selection import RFE"
   ]
  },
  {
   "cell_type": "code",
   "execution_count": 3844,
   "id": "b7510c65",
   "metadata": {},
   "outputs": [],
   "source": [
    "# train_bene = pd.read_csv('Train_Beneficiarydata-1542865627584.csv')\n",
    "# train_inp = pd.read_csv('Train_Inpatientdata-1542865627584.csv')\n",
    "# train_out = pd.read_csv('Train_Outpatientdata-1542865627584.csv')\n",
    "# train_y = pd.read_csv('Train-1542865627584.csv')\n",
    "\n",
    "# train_inp_merge = pd.merge(train_bene, train_inp)\n",
    "# train_out_merge = pd.merge(train_bene, train_out)\n",
    "# train_df = pd.concat([train_inp_merge, train_out_merge])\n",
    "# train_df = pd.merge(train_df, train_y)\n",
    "# #[i for i in train_inp_out_merge.columns if 'DOD' in i]\n",
    "# #train_inp_out_merge\n",
    "# train_df.columns\n",
    "\n",
    "# train_df['ClmAdmitDiagnosisCode'].head(50)"
   ]
  },
  {
   "cell_type": "code",
   "execution_count": 3845,
   "id": "584012b2",
   "metadata": {},
   "outputs": [],
   "source": [
    "def data_preprocess():\n",
    "    \n",
    "    #merge train and test pdfs\n",
    "    train_bene = pd.read_csv('Train_Beneficiarydata-1542865627584.csv')\n",
    "    train_inp = pd.read_csv('Train_Inpatientdata-1542865627584.csv')\n",
    "    train_out = pd.read_csv('Train_Outpatientdata-1542865627584.csv')\n",
    "    train_y = pd.read_csv('Train-1542865627584.csv')\n",
    "\n",
    "    train_inp['Admitted'] = 1\n",
    "    train_out['Admitted'] = 0\n",
    "    \n",
    "\n",
    "    train_bene.head()\n",
    "    train_inp_merge = pd.merge(train_bene, train_inp)\n",
    "    train_out_merge = pd.merge(train_bene, train_out)\n",
    "    train_df = pd.concat([train_inp_merge, train_out_merge])\n",
    "    train_df = pd.merge(train_df, train_y)\n",
    "        \n",
    "    #Set Nan values for Deductible Amt to 0\n",
    "    train_df['DeductibleAmtPaid'] = np.where(train_df['DeductibleAmtPaid'].isnull(), 0, train_df['DeductibleAmtPaid'])\n",
    "    \n",
    "    #replacing 2s with 1s - so that 0 is no and yes is 1\n",
    "    chronic_cond_features = ['Gender', 'ChronicCond_Alzheimer', 'ChronicCond_Heartfailure', 'ChronicCond_KidneyDisease',\n",
    "                           'ChronicCond_Cancer', 'ChronicCond_ObstrPulmonary', 'ChronicCond_Depression', \n",
    "                           'ChronicCond_Diabetes', 'ChronicCond_IschemicHeart', 'ChronicCond_Osteoporasis', \n",
    "                           'ChronicCond_rheumatoidarthritis', 'ChronicCond_stroke']\n",
    "\n",
    "    for i in chronic_cond_features:\n",
    "        train_df[i] = np.where(train_df[i] == 2,0,1)\n",
    "    \n",
    "\n",
    "    #Replacing 'Y' with 1 in RenalDiseaseIndicator\n",
    "    train_df['RenalDiseaseIndicator'] = np.where(train_df['RenalDiseaseIndicator'] == 'Y',1,0)\n",
    "    \n",
    "    #Converting Yes/NO in target variable to boolean\n",
    "    train_df['PotentialFraud'] = np.where(train_df['PotentialFraud'] == 'Yes',1, 0)\n",
    "    \n",
    "    #print(train_df.isnull().sum(axis = 0))\n",
    "    #print(train_df.head(5))\n",
    "    return train_df\n",
    "   \n"
   ]
  },
  {
   "cell_type": "code",
   "execution_count": 3846,
   "id": "1f05e349",
   "metadata": {},
   "outputs": [],
   "source": [
    "def feature_engineering(train_df, num_vec_params):\n",
    "    \n",
    "    chronic_cond_features = ['ChronicCond_Alzheimer', 'ChronicCond_Heartfailure', 'ChronicCond_KidneyDisease',\n",
    "                           'ChronicCond_Cancer', 'ChronicCond_ObstrPulmonary', 'ChronicCond_Depression', \n",
    "                           'ChronicCond_Diabetes', 'ChronicCond_IschemicHeart', 'ChronicCond_Osteoporasis', \n",
    "                           'ChronicCond_rheumatoidarthritis', 'ChronicCond_stroke']\n",
    "    \n",
    "    # Create boolean for dead/alive\n",
    "    train_df['dead'] = np.where(train_df['DOD'].isnull(), 0, 1)\n",
    "\n",
    "    # Create variable for length of claim\n",
    "    train_df['claim_duration'] = (pd.to_datetime(train_df['ClaimEndDt']) - pd.to_datetime(train_df['ClaimStartDt'])).dt.days\n",
    "    \n",
    "\n",
    "    # Create variable for length of admission\n",
    "    train_df['admission_length'] = (pd.to_datetime(train_df['DischargeDt']) - pd.to_datetime(train_df['AdmissionDt'])).dt.days\n",
    "   \n",
    "    #makes outpatient admission length equal to 0 days\n",
    "    train_df['admission_length'] = np.where(train_df['admission_length'].isnull(), 0, train_df['admission_length'])\n",
    "    \n",
    "    #age variable\n",
    "    train_df['age'] = (pd.to_datetime(train_df['ClaimStartDt']) - pd.to_datetime(train_df['DOB'])).dt.days //365\n",
    "    \n",
    "    #Number of physicians variable\n",
    "    train_df['num_physicians'] = train_df[['AttendingPhysician', 'OperatingPhysician', 'OtherPhysician']].notnull().sum(axis = 1)\n",
    "    \n",
    "    #Number of procedures variable\n",
    "    train_df['num_procedures'] = train_df[['ClmProcedureCode_{}'.format(x) for x in range(1,7)]].notnull().sum(axis = 1)\n",
    "    \n",
    "    #Claim Diagnosis code variables\n",
    "    ClmDiagnosisCode_vars =['ClmAdmitDiagnosisCode'] + ['ClmDiagnosisCode_{}'.format(x) for x in range(1, 11)]\n",
    "    train_df['num_claims'] = train_df[ClmDiagnosisCode_vars].notnull().sum(axis = 1)\n",
    "    \n",
    "    \n",
    "    #total claim amount\n",
    "    train_df['TotalClaimAmt'] = train_df['InscClaimAmtReimbursed'] + train_df['DeductibleAmtPaid']\n",
    "    \n",
    "    \n",
    "    train_df['IPTotalAmount'] = train_df['IPAnnualReimbursementAmt'] + train_df['IPAnnualDeductibleAmt']\n",
    "\n",
    "    # Total Outpatient Amount = Outpatient Annual Amount reimbursed + Outpatient Annual Deductible Amount\n",
    "    train_df['OPTotalAmount'] = train_df['OPAnnualReimbursementAmt'] + train_df['OPAnnualDeductibleAmt']\n",
    "    \n",
    "    #Number of Chronic Conditions\n",
    "    train_df['num_conditions'] = train_df[chronic_cond_features].notnull().sum(axis = 1)\n",
    "    \n",
    "\n",
    "    # Define the columns and their corresponding top_n values in a dictionary\n",
    "    columns_to_encode = {\n",
    "        'State': num_vec_params['state_num_vec'],\n",
    "        'ClmDiagnosisCode_1': num_vec_params['codes_num_vec'],\n",
    "        'ClmDiagnosisCode_2': num_vec_params['code2_num_vec'],\n",
    "        'ClmDiagnosisCode_3': num_vec_params['code3_num_vec'],\n",
    "        'AttendingPhysician': num_vec_params['phys_num_vec'],\n",
    "        'County': num_vec_params['county_num_vec']\n",
    "    }\n",
    "\n",
    "    train_df = ordinal_encoder(train_df, 'State', columns_to_encode['State'])\n",
    "    train_df = ordinal_encoder(train_df, 'ClmDiagnosisCode_1', columns_to_encode['ClmDiagnosisCode_1'])\n",
    "    train_df = ordinal_encoder(train_df, 'ClmDiagnosisCode_2', columns_to_encode['ClmDiagnosisCode_2'])\n",
    "    train_df = ordinal_encoder(train_df, 'ClmDiagnosisCode_3', columns_to_encode['ClmDiagnosisCode_3'])\n",
    "    train_df = ordinal_encoder(train_df, 'AttendingPhysician', columns_to_encode['AttendingPhysician'])\n",
    "    train_df = ordinal_encoder(train_df, 'County', columns_to_encode['County'])\n",
    "\n",
    "    # Fit and transform the encoder on the training data\n",
    "    \n",
    "    return train_df\n",
    "    \n",
    "    "
   ]
  },
  {
   "cell_type": "code",
   "execution_count": 3847,
   "id": "5c17760c",
   "metadata": {},
   "outputs": [],
   "source": [
    "def recursive_feature_elimination(model, data, features, num_features = 20):\n",
    "\n",
    "\n",
    "    rfe = RFE(estimator=model, n_features_to_select=num_features)\n",
    "    rfe.fit(data[features], data['PotentialFraud'])\n",
    "    selected_features = rfe.support_\n",
    "    reduced_features = data[features].loc[:, selected_features]\n",
    "    return reduced_features.columns.tolist()"
   ]
  },
  {
   "cell_type": "code",
   "execution_count": 3848,
   "id": "15b127a9",
   "metadata": {},
   "outputs": [],
   "source": [
    "def ordinal_encoder(df, column, top_n):\n",
    "    \n",
    "    top_indices = df[column].value_counts()[:top_n].index\n",
    "    df[column] = np.where(df[column].isin(top_indices), df[column], 'Other')\n",
    "    \n",
    "    encoder = OrdinalEncoder()\n",
    "    df[column] = encoder.fit_transform(df[[column]])\n",
    "\n",
    "    return df"
   ]
  },
  {
   "cell_type": "code",
   "execution_count": 3849,
   "id": "eecc9918",
   "metadata": {},
   "outputs": [],
   "source": [
    "def train_test_split(train_df, split_frac = .25):\n",
    "    # Split the data into train, validate, and test sets\n",
    "    train, validate, test = np.split(train_df.sample(frac=1, random_state=42),\n",
    "                                     [int((1-2*split_frac) * len(train_df)), int((1-split_frac) * len(train_df))])\n",
    "    return train, validate, test"
   ]
  },
  {
   "cell_type": "code",
   "execution_count": 3850,
   "id": "604838f7",
   "metadata": {},
   "outputs": [],
   "source": [
    "def train_model(train, features, model_inst):\n",
    "\n",
    "    model_inst.fit(train[features], train['PotentialFraud'])\n",
    "\n",
    "    return model_inst"
   ]
  },
  {
   "cell_type": "code",
   "execution_count": 3851,
   "id": "90e0d103",
   "metadata": {},
   "outputs": [],
   "source": [
    "def hyperparameter_tuning(model, param_grid, validate, features, num_iter=10):\n",
    "    # Perform grid search with cross-validation\n",
    "    random_search = RandomizedSearchCV(estimator= model, param_distributions=param_grid, n_iter=num_iter, scoring='f1', cv = 3)\n",
    "    #grid_search = GridSearchCV(estimator=model, param_grid=param_grid, scoring='f1', cv=3)\n",
    "    random_search.fit(validate[features], validate['PotentialFraud'])\n",
    "\n",
    "    best_params = random_search.best_params_\n",
    "    best_model = random_search.best_estimator_\n",
    "\n",
    "    return best_model, best_params"
   ]
  },
  {
   "cell_type": "code",
   "execution_count": 3852,
   "id": "a7c2c3a7",
   "metadata": {},
   "outputs": [],
   "source": [
    "def evaluate_model(model, data, features, threshold = 0.5):\n",
    "    y_pred = model.predict(data[features])\n",
    "\n",
    "    y_proba = model.predict_proba(data[features])[:, 1]\n",
    "    y_pred_thresholded = np.where(y_proba >= threshold, 1, 0)\n",
    "    \n",
    "    f1_score_val = f1_score(data['PotentialFraud'], y_pred_thresholded)\n",
    "    return f1_score_val"
   ]
  },
  {
   "cell_type": "code",
   "execution_count": 3853,
   "id": "981998a0",
   "metadata": {},
   "outputs": [],
   "source": [
    "def confusion_matrix_cust(model, data, features, threshold = 0.5):\n",
    "    y_pred = model.predict(data[features])\n",
    "    \n",
    "    y_proba = model.predict_proba(data[features])[:, 1]\n",
    "    print(y_proba.mean(), y_proba.std())\n",
    "    y_pred_thresholded = np.where(y_proba >= threshold, 1, 0)\n",
    "    \n",
    "    # Create the confusion matrix\n",
    "    cm = confusion_matrix(data['PotentialFraud'], y_pred_thresholded)\n",
    "    return cm"
   ]
  },
  {
   "cell_type": "code",
   "execution_count": 3854,
   "id": "5803f982",
   "metadata": {},
   "outputs": [],
   "source": [
    "def auc_roc(model, data, features):\n",
    "    \n",
    "    y_probs = model.predict_proba(data[features])[:, 1]\n",
    "    fpr, tpr, thresholds = roc_curve(data['PotentialFraud'], y_probs)\n",
    "    \n",
    "    auc_roc_score = roc_auc_score(data['PotentialFraud'], y_probs)\n",
    "    \n",
    "    plt.figure(figsize=(8, 6))\n",
    "    plt.plot(fpr, tpr, color='blue', lw=2, label=f'AUC = {auc_roc_score:.2f}')\n",
    "    plt.plot([0, 1], [0, 1], color='gray', linestyle='--')\n",
    "    plt.xlabel('False Positive Rate (FPR)')\n",
    "    plt.ylabel('True Positive Rate (TPR) or Recall')\n",
    "    plt.title('ROC Curve')\n",
    "    plt.legend(loc='lower right')\n",
    "    plt.grid(True)\n",
    "    plt.show()"
   ]
  },
  {
   "cell_type": "code",
   "execution_count": 3855,
   "id": "42ada1fe",
   "metadata": {},
   "outputs": [
    {
     "name": "stdout",
     "output_type": "stream",
     "text": [
      "Index(['BeneID', 'DOB', 'DOD', 'Gender', 'Race', 'RenalDiseaseIndicator',\n",
      "       'State', 'County', 'NoOfMonths_PartACov', 'NoOfMonths_PartBCov',\n",
      "       'ChronicCond_Alzheimer', 'ChronicCond_Heartfailure',\n",
      "       'ChronicCond_KidneyDisease', 'ChronicCond_Cancer',\n",
      "       'ChronicCond_ObstrPulmonary', 'ChronicCond_Depression',\n",
      "       'ChronicCond_Diabetes', 'ChronicCond_IschemicHeart',\n",
      "       'ChronicCond_Osteoporasis', 'ChronicCond_rheumatoidarthritis',\n",
      "       'ChronicCond_stroke', 'IPAnnualReimbursementAmt',\n",
      "       'IPAnnualDeductibleAmt', 'OPAnnualReimbursementAmt',\n",
      "       'OPAnnualDeductibleAmt', 'ClaimID', 'ClaimStartDt', 'ClaimEndDt',\n",
      "       'Provider', 'InscClaimAmtReimbursed', 'AttendingPhysician',\n",
      "       'OperatingPhysician', 'OtherPhysician', 'AdmissionDt',\n",
      "       'ClmAdmitDiagnosisCode', 'DeductibleAmtPaid', 'DischargeDt',\n",
      "       'DiagnosisGroupCode', 'ClmDiagnosisCode_1', 'ClmDiagnosisCode_2',\n",
      "       'ClmDiagnosisCode_3', 'ClmDiagnosisCode_4', 'ClmDiagnosisCode_5',\n",
      "       'ClmDiagnosisCode_6', 'ClmDiagnosisCode_7', 'ClmDiagnosisCode_8',\n",
      "       'ClmDiagnosisCode_9', 'ClmDiagnosisCode_10', 'ClmProcedureCode_1',\n",
      "       'ClmProcedureCode_2', 'ClmProcedureCode_3', 'ClmProcedureCode_4',\n",
      "       'ClmProcedureCode_5', 'ClmProcedureCode_6', 'Admitted',\n",
      "       'PotentialFraud'],\n",
      "      dtype='object')\n"
     ]
    }
   ],
   "source": [
    "df = data_preprocess()\n",
    "print(df.columns)"
   ]
  },
  {
   "cell_type": "code",
   "execution_count": 3856,
   "id": "5e2ddaaf",
   "metadata": {},
   "outputs": [],
   "source": [
    "# Train-Test Split\n",
    "train, validate, test = train_test_split(df, split_frac = 0.25)"
   ]
  },
  {
   "cell_type": "code",
   "execution_count": 3857,
   "id": "c3ee1160",
   "metadata": {},
   "outputs": [],
   "source": [
    "num_vec_params = {\n",
    "    'code3_num_vec': 3,\n",
    "    'code2_num_vec': 3,\n",
    "    'codes_num_vec': 3,\n",
    "    'phys_num_vec': 750,\n",
    "    'state_num_vec': 50,\n",
    "    'county_num_vec': 50\n",
    "}\n",
    "\n",
    "train = feature_engineering(train, num_vec_params)\n",
    "validate = feature_engineering(validate, num_vec_params)\n",
    "test = feature_engineering(test, num_vec_params)\n",
    "\n",
    "#print(train_df[['num_claims', 'num_physicians', 'age']].mean(axis = 0))"
   ]
  },
  {
   "cell_type": "code",
   "execution_count": 3858,
   "id": "cb8cf986",
   "metadata": {},
   "outputs": [],
   "source": [
    "# Define the features\n",
    "features = ['Admitted', 'num_claims', 'num_physicians', 'num_procedures', 'num_conditions', 'age', 'dead', 'admission_length', 'claim_duration', 'TotalClaimAmt', 'Gender',\n",
    "            'ChronicCond_Cancer', 'ChronicCond_Alzheimer', 'ChronicCond_Heartfailure', 'ChronicCond_KidneyDisease', 'ChronicCond_Diabetes', 'ChronicCond_IschemicHeart', 'RenalDiseaseIndicator', 'ChronicCond_ObstrPulmonary', 'ChronicCond_Depression',\n",
    "            'ChronicCond_Osteoporasis', 'ChronicCond_rheumatoidarthritis', 'ChronicCond_stroke', 'ClmDiagnosisCode_1', 'ClmDiagnosisCode_2', 'ClmDiagnosisCode_3', 'Race', 'State', 'County', 'AttendingPhysician', 'OPTotalAmount', 'IPTotalAmount'\n",
    "           ] \n",
    " \n",
    "#hyperparameter grid search\n",
    "param_grid_xg = {\n",
    "    'max_depth': [3,5,7],\n",
    "    'learning_rate': [0.1, 0.01],\n",
    "    'n_estimators': [100, 200, 300],\n",
    "    'subsample': [0.4, 0.6, 0.8],\n",
    "    'colsample_bytree': [0.4, 0.6, 0.8],\n",
    "    'lambda': [0, 0.25, 0.5, 1.0]\n",
    "}\n",
    "\n",
    "param_grid_lgbm = {\n",
    "    \n",
    "    'num_leaves': [31, 50, 100],  # Example values to try\n",
    "    'learning_rate': [0.01, 0.1, 0.2],\n",
    "    'n_estimators': [100, 200, 300]\n",
    "    \n",
    "}\n",
    "\n",
    "param_grid_rf = {\n",
    "    'n_estimators': [50, 100, 200, 300],           # Number of trees in the forest\n",
    "    'max_depth': [5, 10, 15, 20],               # Maximum depth of each tree\n",
    "    'min_samples_split': [3,4,5],           # Minimum number of samples required to split an internal node\n",
    "    'min_samples_leaf': [2,3,4]               # Minimum number of samples required to be at a leaf node\n",
    "}\n",
    "\n",
    "\n",
    "model_instances = {\n",
    "        'xgb': xgb.XGBClassifier(), 'lgbm': lgb.LGBMClassifier(), \n",
    "        'lr': LogisticRegression(), 'rf': RandomForestClassifier()\n",
    "}"
   ]
  },
  {
   "cell_type": "code",
   "execution_count": 3859,
   "id": "133f509d",
   "metadata": {},
   "outputs": [],
   "source": [
    "features = recursive_feature_elimination(model_instances['xgb'], train, features, num_features = 15)"
   ]
  },
  {
   "cell_type": "code",
   "execution_count": 3860,
   "id": "92e6e28d",
   "metadata": {},
   "outputs": [],
   "source": [
    "# Train the models\n",
    "#rf_model = train_model(train, features, model_instances['rf'])\n",
    "xgb_model = train_model(train, features, model_instances['xgb'])\n",
    "#lgbm_model = train_model(train, features, model_instances['lgbm'])\n"
   ]
  },
  {
   "cell_type": "code",
   "execution_count": 3861,
   "id": "77a00706",
   "metadata": {},
   "outputs": [
    {
     "name": "stdout",
     "output_type": "stream",
     "text": [
      "xgb: 0.7381683807488535\n"
     ]
    }
   ],
   "source": [
    "xgb_f1_train_score = evaluate_model(xgb_model, train, features, threshold = 0.38)\n",
    "#lreg_f1_train_score = evaluate_model(logistic_model, train, features)\n",
    "#lgbm_f1_train_score = evaluate_model(lgbm_model, train, features, threshold = 0.38)\n",
    "#rf_f1_train_score = evaluate_model(rf_model, train, features, threshold = 0.38)\n",
    "\n",
    "#xgb_f1_score = evaluate_model(tuned_xgb_model, test, features)\n",
    "#print('rf:', rf_f1_train_score)\n",
    "print('xgb:', xgb_f1_train_score)\n",
    "#print('lgb:', lgbm_f1_train_score)\n",
    "#print('xgb_test:', xgb_f1_score)\n"
   ]
  },
  {
   "cell_type": "code",
   "execution_count": 3862,
   "id": "3a4a209e",
   "metadata": {},
   "outputs": [],
   "source": [
    "#hyperparameter tune\n",
    "\n",
    "\n",
    "tuned_xgb_model, best_params_xgb = hyperparameter_tuning(xgb_model, param_grid_xg, validate, features)\n",
    "#tuned_lgbm_model, best_params_lgbm = hyperparameter_tuning(lgbm_model, param_grid_lgbm, validate, features)\n",
    "#tuned_rf_model, best_params = hyperparameter_tuning(rf_model, param_grid_rf, validate, features)"
   ]
  },
  {
   "cell_type": "code",
   "execution_count": 3863,
   "id": "597d0fad",
   "metadata": {},
   "outputs": [],
   "source": [
    "# Open the file in binary write mode ('wb') to save the data\n",
    "# with open('rf_hyperparams.pkl', 'wb') as file:\n",
    "#     pickle.dump(tuned_rf_model, file)\n",
    "\n",
    "with open('xgb_hyperparams.pkl', 'wb') as file:\n",
    "    pickle.dump(tuned_xgb_model, file)\n",
    "    \n",
    "# with open('lgbm_hyperparams.pkl', 'wb') as file:\n",
    "#     pickle.dump(tuned_lgbm_model, file)"
   ]
  },
  {
   "cell_type": "code",
   "execution_count": 3864,
   "id": "99cd245b",
   "metadata": {},
   "outputs": [],
   "source": [
    "with open('xgb_hyperparams.pkl', 'rb') as file:\n",
    "    tuned_xgb_model = pickle.load(file)\n",
    "\n",
    "\n",
    "# with open('lgbm_hyperparams.pkl', 'rb') as file:\n",
    "#         tuned_lgbm_model = pickle.load(file)\n",
    "\n",
    "# with open('rf_hyperparams.pkl', 'rb') as file:\n",
    "#         tuned_rf_model = pickle.load(file)"
   ]
  },
  {
   "cell_type": "code",
   "execution_count": 3865,
   "id": "08b1704a",
   "metadata": {},
   "outputs": [
    {
     "name": "stdout",
     "output_type": "stream",
     "text": [
      "0.37562084 0.23696066\n"
     ]
    },
    {
     "data": {
      "image/png": "[encoded data removed]",
      "text/plain": [
       "<Figure size 432x288 with 2 Axes>"
      ]
     },
     "metadata": {
      "needs_background": "light"
     },
     "output_type": "display_data"
    },
    {
     "data": {
      "text/plain": [
       "PotentialFraud\n",
       "0    86308\n",
       "1    53245\n",
       "Name: count, dtype: int64"
      ]
     },
     "execution_count": 3865,
     "metadata": {},
     "output_type": "execute_result"
    }
   ],
   "source": [
    "# Create the confusion matrix\n",
    "cm = confusion_matrix_cust(tuned_xgb_model, test, features, threshold = 0.369)\n",
    "\n",
    "sns.heatmap(cm, annot=True, fmt='d', cmap='Blues')\n",
    "plt.xlabel('Predicted')\n",
    "plt.ylabel('True')\n",
    "plt.title('Confusion Matrix')\n",
    "\n",
    "plt.show()\n",
    "\n",
    "test['PotentialFraud'].value_counts()"
   ]
  },
  {
   "cell_type": "code",
   "execution_count": 3866,
   "id": "4366960a",
   "metadata": {},
   "outputs": [
    {
     "name": "stdout",
     "output_type": "stream",
     "text": [
      "0.6509648127128264\n"
     ]
    }
   ],
   "source": [
    "# rf_f1_test_score = evaluate_model(tuned_xgb_model, test, features, threshold = 0.38)\n",
    "# print(rf_f1_test_score)\n",
    "\n",
    "xgb_f1_test_score = evaluate_model(tuned_xgb_model, test, features, threshold = 0.38)\n",
    "print(xgb_f1_test_score)\n",
    "\n",
    "# lgbm_f1_test_score = evaluate_model(tuned_lgbm_model, test, features, threshold = 0.365)\n",
    "# print(lgbm_f1_test_score)"
   ]
  },
  {
   "cell_type": "code",
   "execution_count": 3867,
   "id": "8b11a862",
   "metadata": {},
   "outputs": [
    {
     "name": "stdout",
     "output_type": "stream",
     "text": [
      "{'subsample': 0.6, 'n_estimators': 300, 'max_depth': 5, 'learning_rate': 0.1, 'lambda': 0.5, 'colsample_bytree': 0.8}\n"
     ]
    }
   ],
   "source": [
    "print(best_params_xgb)"
   ]
  },
  {
   "cell_type": "code",
   "execution_count": 3868,
   "id": "b902d19e",
   "metadata": {},
   "outputs": [],
   "source": [
    "# file_path = 'xgb_model.pkl'\n",
    "\n",
    "# with open(file_path, 'wb') as f:\n",
    "#     pickle.dump(tuned_xgb_model, f)\n",
    "\n",
    "\n",
    "# file_path = 'lgbm_model.pkl'\n",
    "\n",
    "# with open(file_path, 'wb') as f:\n",
    "#     pickle.dump(tuned_lgbm_model, f)\n",
    "\n",
    "\n",
    "# file_path = 'rf_model.pkl'\n",
    "\n",
    "# with open(file_path, 'wb') as f:\n",
    "#     pickle.dump(tuned_rf_model, f)\n"
   ]
  },
  {
   "cell_type": "code",
   "execution_count": 3869,
   "id": "1fcc0666",
   "metadata": {},
   "outputs": [
    {
     "name": "stdout",
     "output_type": "stream",
     "text": [
      "[('Admitted', 0.476), ('AttendingPhysician', 0.178), ('State', 0.148), ('County', 0.1), ('admission_length', 0.018), ('ChronicCond_Alzheimer', 0.01), ('TotalClaimAmt', 0.009), ('ChronicCond_stroke', 0.009), ('ClmDiagnosisCode_3', 0.009), ('OPTotalAmount', 0.009), ('Race', 0.008), ('IPTotalAmount', 0.008), ('claim_duration', 0.006), ('ChronicCond_Diabetes', 0.006), ('RenalDiseaseIndicator', 0.006)]\n"
     ]
    }
   ],
   "source": [
    "feat_imp = np.round(xgb_model.feature_importances_, 3)\n",
    "print(sorted(list(zip(features, feat_imp)), key = lambda x: x[1], reverse = True))"
   ]
  },
  {
   "cell_type": "code",
   "execution_count": 3870,
   "id": "d1dcf3e1",
   "metadata": {},
   "outputs": [
    {
     "data": {
      "image/png": "[encoded data removed]",
      "text/plain": [
       "<Figure size 576x432 with 1 Axes>"
      ]
     },
     "metadata": {
      "needs_background": "light"
     },
     "output_type": "display_data"
    }
   ],
   "source": [
    "rf_auc_roc = auc_roc(tuned_xgb_model, test, features)"
   ]
  },
  {
   "cell_type": "code",
   "execution_count": null,
   "id": "66ce1b7f",
   "metadata": {},
   "outputs": [],
   "source": []
  }
 ],
 "metadata": {
  "kernelspec": {
   "display_name": "Python 3",
   "language": "python",
   "name": "python3"
  },
  "language_info": {
   "codemirror_mode": {
    "name": "ipython",
    "version": 3
   },
   "file_extension": ".py",
   "mimetype": "text/x-python",
   "name": "python",
   "nbconvert_exporter": "python",
   "pygments_lexer": "ipython3",
   "version": "3.8.8"
  }
 },
 "nbformat": 4,
 "nbformat_minor": 5
}
